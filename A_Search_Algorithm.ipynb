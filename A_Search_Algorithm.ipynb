{
 "cells": [
  {
   "cell_type": "markdown",
   "id": "c1693a0a",
   "metadata": {},
   "source": [
    "# A Search Algorithm*:"
   ]
  },
  {
   "cell_type": "markdown",
   "id": "adcb269a",
   "metadata": {},
   "source": [
    "### A* is a pathfinding and graph traversal algorithm that finds the shortest path between two points."
   ]
  },
  {
   "cell_type": "code",
   "execution_count": 1,
   "id": "27ba8c69",
   "metadata": {},
   "outputs": [
    {
     "name": "stdout",
     "output_type": "stream",
     "text": [
      "Shortest Path from A to F : ['A', 'C', 'E', 'F']\n"
     ]
    }
   ],
   "source": [
    "import heapq\n",
    "\n",
    "def astar(graph, start, end, heuristic):\n",
    "    open_set = []\n",
    "    heapq.heappush(open_set, (0, start))\n",
    "    came_from = {}\n",
    "    g_score = {node: float('infinity') for node in graph}\n",
    "    g_score[start] = 0\n",
    "\n",
    "    while open_set:\n",
    "        current_score, current_node = heapq.heappop(open_set)\n",
    "        if current_node == end:\n",
    "            return reconstruct_path(came_from, end)\n",
    "        for neighbor, cost in graph[current_node].items():\n",
    "            tentative_g_score = g_score[current_node] + cost\n",
    "            if tentative_g_score < g_score[neighbor]:\n",
    "                came_from[neighbor] = current_node\n",
    "                g_score[neighbor] = tentative_g_score\n",
    "                f_score = tentative_g_score + heuristic(neighbor, end)\n",
    "                heapq.heappush(open_set, (f_score, neighbor))\n",
    "    return None\n",
    "\n",
    "def reconstruct_path(came_from, current_node):\n",
    "    path = [current_node]\n",
    "    while current_node in came_from:\n",
    "        current_node = came_from[current_node]\n",
    "        path.append(current_node)\n",
    "    return path[::-1]\n",
    "\n",
    "# Define your graph as a dictionary of dictionaries, representing weighted edges between nodes.\n",
    "# Example:\n",
    "graph = {\n",
    "    'A': {'B': 1, 'C': 3},\n",
    "    'B': {'A': 1, 'D': 4},\n",
    "    'C': {'A': 3, 'E': 2},\n",
    "    'D': {'B': 4, 'F': 5},\n",
    "    'E': {'C': 2, 'F': 1},\n",
    "    'F': {'D': 5, 'E': 1}\n",
    "}\n",
    "\n",
    "# Specify the starting and ending nodes.\n",
    "start_node = 'A'\n",
    "end_node = 'F'\n",
    "\n",
    "# Define a heuristic function. This is a placeholder heuristic; you should define one based on your problem.\n",
    "def heuristic(node, goal):\n",
    "    # Replace this with your specific heuristic calculation.\n",
    "    return 0\n",
    "\n",
    "# Call the A* search function with the initialized graph, start, end, and heuristic.\n",
    "path = astar(graph, start_node, end_node, heuristic)\n",
    "\n",
    "if path:\n",
    "    print(\"Shortest Path from\", start_node, \"to\", end_node, \":\", path)\n",
    "else:\n",
    "    print(\"No path found.\")\n"
   ]
  },
  {
   "cell_type": "code",
   "execution_count": null,
   "id": "f5578f12",
   "metadata": {},
   "outputs": [],
   "source": []
  }
 ],
 "metadata": {
  "kernelspec": {
   "display_name": "Python 3 (ipykernel)",
   "language": "python",
   "name": "python3"
  },
  "language_info": {
   "codemirror_mode": {
    "name": "ipython",
    "version": 3
   },
   "file_extension": ".py",
   "mimetype": "text/x-python",
   "name": "python",
   "nbconvert_exporter": "python",
   "pygments_lexer": "ipython3",
   "version": "3.11.5"
  }
 },
 "nbformat": 4,
 "nbformat_minor": 5
}
